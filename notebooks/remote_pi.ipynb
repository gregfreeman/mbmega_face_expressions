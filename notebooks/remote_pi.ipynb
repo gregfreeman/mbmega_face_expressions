{
 "cells": [
  {
   "cell_type": "code",
   "execution_count": null,
   "id": "64ae065b-51b3-40e4-b709-5960b8e027ee",
   "metadata": {},
   "outputs": [],
   "source": [
    "!ls"
   ]
  },
  {
   "cell_type": "code",
   "execution_count": null,
   "id": "dab6d5d3-0c29-4a1a-a2bb-59b0cc58e47b",
   "metadata": {},
   "outputs": [],
   "source": []
  },
  {
   "cell_type": "code",
   "execution_count": null,
   "id": "39037e15-0086-4be4-89b6-f3600bed895d",
   "metadata": {},
   "outputs": [],
   "source": [
    "print(3)"
   ]
  },
  {
   "cell_type": "code",
   "execution_count": null,
   "id": "7ee010b3-9d42-4e3c-abcd-ac6e6aa2fce0",
   "metadata": {},
   "outputs": [],
   "source": [
    "from picamera import PiCamera"
   ]
  },
  {
   "cell_type": "code",
   "execution_count": 3,
   "id": "27943cb1-0b75-4d59-b149-9d2cd652ba3d",
   "metadata": {},
   "outputs": [
    {
     "ename": "NameError",
     "evalue": "name 'PiCamera' is not defined",
     "output_type": "error",
     "traceback": [
      "\u001b[0;31m---------------------------------------------------------------------------\u001b[0m",
      "\u001b[0;31mNameError\u001b[0m                                 Traceback (most recent call last)",
      "\u001b[0;32m/tmp/ipykernel_13952/4113198525.py\u001b[0m in \u001b[0;36m<module>\u001b[0;34m\u001b[0m\n\u001b[0;32m----> 1\u001b[0;31m \u001b[0mcamera\u001b[0m \u001b[0;34m=\u001b[0m \u001b[0mPiCamera\u001b[0m\u001b[0;34m(\u001b[0m\u001b[0;34m)\u001b[0m\u001b[0;34m\u001b[0m\u001b[0;34m\u001b[0m\u001b[0m\n\u001b[0m",
      "\u001b[0;31mNameError\u001b[0m: name 'PiCamera' is not defined"
     ]
    }
   ],
   "source": [
    "camera = PiCamera()"
   ]
  },
  {
   "cell_type": "code",
   "execution_count": null,
   "id": "41ac1a9a-aa63-428f-9d45-7051c98f543d",
   "metadata": {},
   "outputs": [],
   "source": [
    "from time import sleep\n",
    "from random import random\n",
    "import math\n",
    "from makeblock import MegaPi,SerialPort"
   ]
  },
  {
   "cell_type": "code",
   "execution_count": null,
   "id": "c80e932e-d05d-468b-a5ac-f0fd28914956",
   "metadata": {},
   "outputs": [],
   "source": [
    "\n",
    "megapi = MegaPi.connect() # or megapi = MegaPi.connect(SerialPort.connect(\"/dev/ttyUSB0\"))"
   ]
  },
  {
   "cell_type": "code",
   "execution_count": null,
   "id": "5cc10e97-69be-4cf6-8d3c-27b579a78480",
   "metadata": {},
   "outputs": [],
   "source": []
  },
  {
   "cell_type": "code",
   "execution_count": null,
   "id": "888489da-8bef-4b2e-b73f-eb8843238673",
   "metadata": {},
   "outputs": [],
   "source": [
    "import logging\n",
    "import numpy as np\n",
    "import asyncio as aio\n",
    "from time import sleep\n",
    "from random import random\n",
    "import math\n",
    "from makeblock import MegaPi, SerialPort\n",
    "\n",
    "\n",
    "log = logging.getLogger(__name__)\n",
    "\n",
    "\n",
    "A6 = 60\n",
    "A7 = 61\n",
    "A8 = 62\n",
    "A9 = 63\n",
    "A10 = 64\n",
    "A11 = 65\n",
    "A12 = 66\n",
    "A13 = 67\n",
    "A14 = 68\n",
    "A15 = 69\n",
    "\n",
    "COLORS = {\n",
    "    'black': (0, 0, 0),\n",
    "    'white': (255, 255, 255),\n",
    "    'red': (255, 0, 0),\n",
    "    'green': (0, 255, 0),\n",
    "    'blue': (0, 0, 255),\n",
    "    'yellow': (255, 255, 0),\n",
    "}\n",
    "\n",
    "\n",
    "def set_rgb(bot, r, g, b):\n",
    "\n",
    "    \"\"\"\n",
    "    set 2x4 rgb leds to the same color\n",
    "    \"\"\"\n",
    "    led = bot.RGBLed()\n",
    "    for idx in range(1, 5):\n",
    "        led.set_color(idx, r, g, b, A13)\n",
    "        led.set_color(idx, r, g, b, A14)\n",
    "\n",
    "\n",
    "\n",
    "async def move_xyw(bot, x, y, w, t):\n",
    "    \"\"\"\n",
    "    move robot in x, y, w space\n",
    "    x = forward\n",
    "    y = right\n",
    "    w = rotate about z  (x cross y)\n",
    "\n",
    "    robot has mecanum wheels\n",
    "    \"\"\"\n",
    "    motor1 = bot.DCMotor(1, 1)  # RF forward\n",
    "    motor2 = bot.DCMotor(1, 2)  # RR forward\n",
    "    motor3 = bot.DCMotor(2, 1)  # LR reverse\n",
    "    motor4 = bot.DCMotor(2, 2)  # LF reverse\n",
    "\n",
    "    # motor mapping\n",
    "    R_motor = np.array([[+1 +1 -1 -1],   # X\n",
    "                        [+1 -1 +1 -1],   # Y\n",
    "                        [+1 +1 +1 +1]]   # w (z rotation)\n",
    "\n",
    "\n",
    "    motor_cmd = R_motor @@ np.array([x,y,w])\n",
    "    motor1.run(motor_cmd[0])\n",
    "    motor2.run(motor_cmd[1])\n",
    "    motor3.run(motor_cmd[2])\n",
    "    motor4.run(motor_cmd[3])\n",
    "    await aio.sleep(t)\n",
    "    motor1.run(0)\n",
    "    motor2.run(0)\n",
    "    motor3.run(0)\n",
    "    motor4.run(0)\n",
    "\n",
    "\n",
    "async def happy_action(bot):\n",
    "    set_rgb(bot, *COLORS['green'])\n",
    "    move_xyw(bot, 0, 0, 50, 1)\n",
    "    await aio.sleep(0.2)\n",
    "    move_xyw(bot, 0, 0, -50, 1)\n",
    "\n",
    "\n",
    "async def show_red(bot):\n",
    "    set_rgb(bot, *COLORS['red'])\n",
    "\n",
    "\n",
    "async def show_blue(bot):\n",
    "    set_rgb(bot, *COLORS['blue'])\n",
    "\n",
    "\n",
    "async def show_yellow(bot):\n",
    "    set_rgb(bot, *COLORS['yellow'])\n",
    "\n",
    "async def led_off(bot):\n",
    "    set_rgb(bot, *COLORS['black'])\n"
   ]
  },
  {
   "cell_type": "code",
   "execution_count": null,
   "id": "e85f7607-165f-40e4-8ac3-e2af8e82a277",
   "metadata": {},
   "outputs": [],
   "source": [
    "bot = MegaPi.connect(SerialPort.connect(\"/dev/ttyUSB0\"))"
   ]
  },
  {
   "cell_type": "code",
   "execution_count": null,
   "id": "6b0b5442-035d-4d22-b780-59618be737ed",
   "metadata": {},
   "outputs": [],
   "source": []
  }
 ],
 "metadata": {
  "kernelspec": {
   "display_name": "SSH pi@robot.local Python RPI",
   "language": "python",
   "name": "rik_ssh_pi_robot_local_pythonrpi"
  },
  "language_info": {
   "codemirror_mode": {
    "name": "ipython",
    "version": 3
   },
   "file_extension": ".py",
   "mimetype": "text/x-python",
   "name": "python",
   "nbconvert_exporter": "python",
   "pygments_lexer": "ipython3",
   "version": "3.7.3"
  }
 },
 "nbformat": 4,
 "nbformat_minor": 5
}
