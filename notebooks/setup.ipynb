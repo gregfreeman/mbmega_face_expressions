{
 "cells": [
  {
   "cell_type": "code",
   "execution_count": null,
   "id": "f29d6d59-3e9b-466d-abbf-bb1e3e50ab30",
   "metadata": {},
   "outputs": [],
   "source": [
    "# create remote raspberry pi kernel"
   ]
  },
  {
   "cell_type": "code",
   "execution_count": null,
   "id": "eed702d1-7a6b-4cea-8667-095a88304e16",
   "metadata": {},
   "outputs": [],
   "source": [
    "!pip install remote_ikernel"
   ]
  },
  {
   "cell_type": "code",
   "execution_count": null,
   "id": "5c7ec3fd-389f-4308-b35d-5e3c30c971f5",
   "metadata": {},
   "outputs": [],
   "source": [
    "# setup ssh key password less authentication on raspberry pi"
   ]
  },
  {
   "cell_type": "code",
   "execution_count": 3,
   "id": "f931cee4-69df-4492-924d-9ceb48e3aef6",
   "metadata": {},
   "outputs": [
    {
     "name": "stdout",
     "output_type": "stream",
     "text": [
      "Added kernel ['rik_ssh_pi_robot_local_pythonrpi']: SSH pi@robot.local Python RPI.\n"
     ]
    }
   ],
   "source": [
    "!remote_ikernel manage --add \\\n",
    "      --kernel_cmd=\"/usr/bin/env ipython3 kernel -f {connection_file}\"  \\\n",
    "      --name=\"Python RPI\" --interface=ssh \\\n",
    "      --host=pi@robot.local --workdir='~' --language=python"
   ]
  },
  {
   "cell_type": "code",
   "execution_count": null,
   "id": "709ec270-6200-4a93-b687-607eb60cc3fc",
   "metadata": {},
   "outputs": [],
   "source": [
    "# setup remote file system over ssh"
   ]
  },
  {
   "cell_type": "code",
   "execution_count": null,
   "id": "c87b3bf2-a2b2-4ae0-8a69-30fb08312f97",
   "metadata": {},
   "outputs": [],
   "source": [
    "!mkdir ../remote"
   ]
  },
  {
   "cell_type": "code",
   "execution_count": null,
   "id": "212f7558-c33d-4aeb-9927-8fdafac7e208",
   "metadata": {},
   "outputs": [],
   "source": [
    "sshfs -o idmap=user pi@robot.local:/home/pi ../remote"
   ]
  },
  {
   "cell_type": "code",
   "execution_count": null,
   "id": "193d5f7b-19f2-42fb-87bc-dcbac248871d",
   "metadata": {},
   "outputs": [],
   "source": [
    "\n",
    "\n",
    "!ls /dev/ttyU*"
   ]
  }
 ],
 "metadata": {
  "kernelspec": {
   "display_name": "Python 3 (ipykernel)",
   "language": "python",
   "name": "python3"
  },
  "language_info": {
   "codemirror_mode": {
    "name": "ipython",
    "version": 3
   },
   "file_extension": ".py",
   "mimetype": "text/x-python",
   "name": "python",
   "nbconvert_exporter": "python",
   "pygments_lexer": "ipython3",
   "version": "3.8.10"
  }
 },
 "nbformat": 4,
 "nbformat_minor": 5
}
